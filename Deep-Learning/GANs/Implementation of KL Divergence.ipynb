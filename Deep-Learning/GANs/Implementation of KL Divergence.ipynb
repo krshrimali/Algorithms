{
 "cells": [
  {
   "cell_type": "markdown",
   "metadata": {},
   "source": [
    "## Implementation of KL Divergence\n",
    "\n",
    "* Reference: https://qiita.com/Rowing0914/items/2f3fcb114ae671c7c394\n",
    "* Mathematics: https://lilianweng.github.io/lil-log/2017/08/20/from-GAN-to-WGAN.html"
   ]
  },
  {
   "cell_type": "code",
   "execution_count": 1,
   "metadata": {},
   "outputs": [],
   "source": [
    "import numpy as np\n",
    "import matplotlib.pyplot as plt\n",
    "from scipy.stats import norm, entropy"
   ]
  },
  {
   "cell_type": "code",
   "execution_count": 4,
   "metadata": {},
   "outputs": [],
   "source": [
    "def entropy_multi(p, q):\n",
    "    return np.sum(p * np.log(p/q), axis=0)"
   ]
  },
  {
   "cell_type": "code",
   "execution_count": 4,
   "metadata": {},
   "outputs": [
    {
     "name": "stdout",
     "output_type": "stream",
     "text": [
      "Calculating entropy for: 1000 and 1000\n",
      "kl:  0.0\n",
      "Calculating entropy for: 1000 and 1000\n",
      "kl:  0.12499999999999986\n",
      "Calculating entropy for: 1000 and 1000\n",
      "kl:  0.4999999999999995\n",
      "Calculating entropy for: 1000 and 1000\n",
      "kl:  1.1249999999999996\n",
      "Calculating entropy for: 1000 and 1000\n",
      "kl:  1.9999999999999987\n",
      "Calculating entropy for: 1000 and 1000\n",
      "kl:  3.12499999999997\n",
      "Calculating entropy for: 1000 and 1000\n",
      "kl:  4.499999999998808\n",
      "Calculating entropy for: 1000 and 1000\n",
      "kl:  6.124999999962452\n",
      "Calculating entropy for: 1000 and 1000\n",
      "kl:  7.9999999990730135\n"
     ]
    }
   ],
   "source": [
    "# create 2 sample distributions p and q\n",
    "\n",
    "# creating an array\n",
    "x = np.linspace(-10.0, 10.0, 1000)\n",
    "\n",
    "# gradually shift the distribution\n",
    "for i in np.arange(3):\n",
    "    for j in np.arange(3):\n",
    "        # index to shift\n",
    "        index = i*3 + j\n",
    "        \n",
    "        # probabilistic distribution function\n",
    "        p = norm.pdf(x, loc=0, scale=1)\n",
    "        q = norm.pdf(x, loc=index*0.5, scale=1)\n",
    "        \n",
    "        # mean of them\n",
    "        m = (p+q)/2\n",
    "        \n",
    "        # scipy entropy\n",
    "        print('Calculating entropy for: {} and {}'.format(len(p), len(q)))\n",
    "        kl = entropy(p, q)\n",
    "        print('kl: ', kl)"
   ]
  },
  {
   "cell_type": "code",
   "execution_count": null,
   "metadata": {},
   "outputs": [],
   "source": []
  }
 ],
 "metadata": {
  "kernelspec": {
   "display_name": "Python 3",
   "language": "python",
   "name": "python3"
  },
  "language_info": {
   "codemirror_mode": {
    "name": "ipython",
    "version": 3
   },
   "file_extension": ".py",
   "mimetype": "text/x-python",
   "name": "python",
   "nbconvert_exporter": "python",
   "pygments_lexer": "ipython3",
   "version": "3.6.7"
  }
 },
 "nbformat": 4,
 "nbformat_minor": 2
}
